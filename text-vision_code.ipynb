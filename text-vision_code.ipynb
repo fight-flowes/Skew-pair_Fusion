{
  "cells": [
    {
      "cell_type": "markdown",
      "metadata": {
        "id": "jDv7huNYlT2r"
      },
      "source": [
        "## 安装工具包"
      ]
    },
    {
      "cell_type": "markdown",
      "metadata": {
        "id": "u1sYXFRZ5iW3"
      },
      "source": [
        "## 加载数据集"
      ]
    },
    {
      "cell_type": "code",
      "execution_count": 1,
      "metadata": {
        "id": "LUmP2rrSehP6"
      },
      "outputs": [
        {
          "name": "stderr",
          "output_type": "stream",
          "text": [
            "/home/caixuqiang/miniconda3/lib/python3.11/site-packages/tqdm/auto.py:21: TqdmWarning: IProgress not found. Please update jupyter and ipywidgets. See https://ipywidgets.readthedocs.io/en/stable/user_install.html\n",
            "  from .autonotebook import tqdm as notebook_tqdm\n"
          ]
        }
      ],
      "source": [
        "from datasets import load_from_disk\n",
        "\n",
        "# 从保存的路径重新加载数据集\n",
        "dataset = load_from_disk('./hateful_memes')\n"
      ]
    },
    {
      "cell_type": "code",
      "execution_count": 5,
      "metadata": {},
      "outputs": [
        {
          "name": "stderr",
          "output_type": "stream",
          "text": [
            "Could not find image processor class in the image processor config or the model config. Loading based on pattern matching with the model's feature extractor configuration.\n",
            "Some weights of BeitModel were not initialized from the model checkpoint at microsoft/beit-base-patch16-224-pt22k and are newly initialized: ['beit.pooler.layernorm.bias', 'beit.pooler.layernorm.weight']\n",
            "You should probably TRAIN this model on a down-stream task to be able to use it for predictions and inference.\n",
            "                                                               \r"
          ]
        }
      ],
      "source": [
        "from datasets import load_dataset\n",
        "from PIL import Image\n",
        "import os\n",
        "from transformers import AutoImageProcessor, BeitModel\n",
        "import torch\n",
        "from datasets import load_dataset\n",
        "from PIL import Image\n",
        "\n",
        "image_processor = AutoImageProcessor.from_pretrained(\"microsoft/beit-base-patch16-224-pt22k\")\n",
        "model = BeitModel.from_pretrained(\"microsoft/beit-base-patch16-224-pt22k\")\n",
        "# 假设 dataset 是您已经加载的 DatasetDict\n",
        "# 例如：dataset = load_dataset(...)\n",
        "\n",
        "def load_image(example):\n",
        "    # 图像文件的基本路径\n",
        "    base_path = './hateful_memes/'\n",
        "    # 更新图像路径为完整路径\n",
        "    img_path = os.path.join(base_path, example['img'])\n",
        "    # 加载图像并转换为RGB\n",
        "    image = Image.open(img_path).convert('RGB')\n",
        "    \n",
        "    # 更新example，这里是直接返回更新后的图像对象\n",
        "    example['img'] = image_processor(image, return_tensors=\"pt\")\n",
        "    return example\n",
        "\n",
        "# 应用 map 函数更新数据集中的 img 列\n",
        "dataset = dataset.map(load_image, batched=False)\n"
      ]
    },
    {
      "cell_type": "markdown",
      "metadata": {
        "id": "fG_WWRJ1l4v3"
      },
      "source": [
        "### 处理数据"
      ]
    },
    {
      "cell_type": "code",
      "execution_count": 16,
      "metadata": {
        "id": "ERiT1v1IQx3P"
      },
      "outputs": [
        {
          "name": "stderr",
          "output_type": "stream",
          "text": [
            "Could not find image processor class in the image processor config or the model config. Loading based on pattern matching with the model's feature extractor configuration.\n",
            "Some weights of BeitModel were not initialized from the model checkpoint at microsoft/beit-base-patch16-224-pt22k and are newly initialized: ['beit.pooler.layernorm.bias', 'beit.pooler.layernorm.weight']\n",
            "You should probably TRAIN this model on a down-stream task to be able to use it for predictions and inference.\n"
          ]
        },
        {
          "data": {
            "text/plain": [
              "[1, 197, 768]"
            ]
          },
          "execution_count": 16,
          "metadata": {},
          "output_type": "execute_result"
        }
      ],
      "source": [
        "from transformers import AutoImageProcessor, BeitModel\n",
        "import torch\n",
        "from datasets import load_dataset\n",
        "from PIL import Image\n",
        "\n",
        "image_processor = AutoImageProcessor.from_pretrained(\"microsoft/beit-base-patch16-224-pt22k\")\n",
        "model = BeitModel.from_pretrained(\"microsoft/beit-base-patch16-224-pt22k\")\n",
        "inputs  = dataset['test'][1][\"img\"]\n",
        "\n",
        "with torch.no_grad():\n",
        "    outputs = model(**inputs)\n",
        "\n",
        "last_hidden_states = outputs.last_hidden_state\n",
        "list(last_hidden_states.shape)"
      ]
    },
    {
      "cell_type": "markdown",
      "metadata": {
        "id": "OqaAkTdtmy65"
      },
      "source": [
        "## TEXT-ONLY"
      ]
    },
    {
      "cell_type": "code",
      "execution_count": 3,
      "metadata": {
        "id": "0xxcv5WqnLnk"
      },
      "outputs": [],
      "source": [
        "from transformers import AutoProcessor, AutoModelForAudioClassification, AutoModelForPreTraining, AutoModelForMaskedLM, AutoModelForSequenceClassification\n",
        "import torch.nn as nn\n",
        "from transformers import AutoTokenizer\n",
        "import torch\n",
        "from transformers import AutoModel\n",
        "from transformers import BertModel\n",
        "import math\n",
        "import os\n",
        "import warnings\n",
        "from dataclasses import dataclass\n",
        "from typing import List, Optional, Tuple, Union\n",
        "import torch.nn.init as init\n",
        "import torch.utils.checkpoint\n",
        "from torch.nn import BCEWithLogitsLoss, CrossEntropyLoss, MSELoss\n",
        "\n",
        "class text_only_model(nn.Module):\n",
        "    def __init__(self):\n",
        "        super(text_only_model, self).__init__()\n",
        "        # 选择并加载baseModel\n",
        "        self.bert_base = BertModel.from_pretrained(\"/home/caixuqiang/bert-base-uncased\", output_hidden_states = True)\n",
        "        #self.bert_base = AutoModelForSequenceClassification.from_pretrained(\"/content/drive/MyDrive/myModel/bert_12layers\", output_hidden_states=True)\n",
        "        #self.bert_base = AutoModelForSequenceClassification.from_pretrained(\"JerryM/distilbert-base-uncased-finetuned-emotion\",output_hidden_states=True)\n",
        "        #self.bert_base = AutoModelForSequenceClassification.from_pretrained(\"wofeishenling/autotrain-iemocap_text_4-39809103601\", output_hidden_states = True)\n",
        "        self.dropout = nn.Dropout(0.1)\n",
        "        self.classifier = nn.Linear(768, 2)\n",
        "\n",
        "    def forward(\n",
        "        self,\n",
        "        input_ids: Optional[torch.Tensor] = None,\n",
        "        attention_mask: Optional[torch.Tensor] = None,\n",
        "        #token_type_ids: Optional[torch.Tensor] = None,\n",
        "        position_ids: Optional[torch.Tensor] = None,\n",
        "        head_mask: Optional[torch.Tensor] = None,\n",
        "        inputs_embeds: Optional[torch.Tensor] = None,\n",
        "        labels: Optional[torch.Tensor] = None,\n",
        "        output_attentions: Optional[bool] = None,\n",
        "        output_hidden_states: Optional[bool] = None,\n",
        "        return_dict: Optional[bool] = None,\n",
        "    ) -> Tuple[torch.Tensor]:\n",
        "        #print(model.M_12_1.weight)\n",
        "        outputs = self.bert_base(\n",
        "            input_ids,\n",
        "            attention_mask=attention_mask,\n",
        "            #token_type_ids=token_type_ids,\n",
        "            #position_ids=position_ids,\n",
        "            head_mask=head_mask,\n",
        "            inputs_embeds=inputs_embeds,\n",
        "            output_attentions=output_attentions,\n",
        "            output_hidden_states=output_hidden_states,\n",
        "            return_dict=return_dict,\n",
        "        )\n",
        "        hidden_states = outputs.hidden_states\n",
        "        #print(hidden_states[1][:, 0, :].shape) #32*768\n",
        "        # 取出模型的1-12层输出\n",
        "\n",
        "        #取第12层作为分类器的输入\n",
        "        logits = self.classifier(hidden_states[12][:, 0, :])\n",
        "        loss_fct = CrossEntropyLoss()\n",
        "        loss = loss_fct(logits.view(-1, 2), labels.view(-1))\n",
        "\n",
        "        output = (logits,)\n",
        "        return ((loss,) + output)\n"
      ]
    },
    {
      "cell_type": "code",
      "execution_count": 12,
      "metadata": {
        "id": "cLvJ9ryGnkSr"
      },
      "outputs": [],
      "source": [
        "# 实例化模型\n",
        "model = text_only_model()"
      ]
    },
    {
      "cell_type": "code",
      "execution_count": 29,
      "metadata": {
        "id": "3xU2LrtZEcII"
      },
      "outputs": [],
      "source": [
        "# 冻结bert模型的参数，使其不参与参数的更新\n",
        "for param in model.bert_base.parameters():\n",
        "    param.requires_grad = False"
      ]
    },
    {
      "cell_type": "markdown",
      "metadata": {
        "id": "JnC6CuV_xA1t"
      },
      "source": [
        "### Trainer"
      ]
    },
    {
      "cell_type": "code",
      "execution_count": 13,
      "metadata": {
        "id": "h1xmTd07d-aU"
      },
      "outputs": [],
      "source": [
        "from transformers import Trainer, TrainingArguments\n",
        "\n",
        "# 设置训练参数\n",
        "class CustomTrainer(Trainer):\n",
        "    def create_optimizer(self):\n",
        "        optimizer_grouped_parameters = [\n",
        "            {\n",
        "              \"params\": self.model.classifier.parameters(),\n",
        "              \"lr\": 1e-3,\n",
        "              \"weight_decay\": self.args.weight_decay\n",
        "            },\n",
        "            {\n",
        "              \"params\": self.model.bert_base.parameters(),\n",
        "              \"lr\": self.args.learning_rate,\n",
        "              \"weight_decay\": self.args.weight_decay\n",
        "            },\n",
        "        ]\n",
        "        self.optimizer = torch.optim.AdamW(optimizer_grouped_parameters, lr=self.args.learning_rate)\n",
        "        return self.optimizer\n",
        "\n",
        "training_args = TrainingArguments(\n",
        "    output_dir=\"test_trainer\", evaluation_strategy=\"epoch\",\n",
        "    learning_rate = 5e-5,\n",
        "    per_device_train_batch_size=16,\n",
        "    per_device_eval_batch_size=16,\n",
        "    num_train_epochs=1,\n",
        "    #no_cuda=True,\n",
        "    )"
      ]
    },
    {
      "cell_type": "code",
      "execution_count": 14,
      "metadata": {
        "id": "50MXQW3Hn6gy"
      },
      "outputs": [],
      "source": [
        "import numpy as np\n",
        "import evaluate\n",
        "metric = evaluate.load(\"/home/caixuqiang/evaluate/metrics/roc_auc\")\n",
        "def compute_metrics(eval_pred):\n",
        "    logits, labels = eval_pred\n",
        "    # 对于二分类问题，使用 sigmoid 函数将 logits 转换为概率值\n",
        "    # 对于多分类问题，你可能需要使用 softmax 函数\n",
        "    probabilities = 1 / (1 + np.exp(-logits))[:, 1]\n",
        "\n",
        "    # 对于二分类问题，你可以直接使用 probabilities\n",
        "    # 如果是多标签分类，确保你的输出和标签是正确的形式\n",
        "    return metric.compute(prediction_scores=probabilities, references=labels)"
      ]
    },
    {
      "cell_type": "code",
      "execution_count": 15,
      "metadata": {
        "id": "fg5VcfJ_oBrM"
      },
      "outputs": [],
      "source": [
        "trainer = CustomTrainer(\n",
        "    model=model,\n",
        "    args=training_args,\n",
        "    train_dataset=dataset['train'],\n",
        "    eval_dataset=dataset['test'],\n",
        "    compute_metrics=compute_metrics,\n",
        ")"
      ]
    },
    {
      "cell_type": "code",
      "execution_count": 16,
      "metadata": {
        "colab": {
          "base_uri": "https://localhost:8080/",
          "height": 425
        },
        "id": "2urdazQAoCho",
        "outputId": "2aff76e5-8cd3-4d31-836a-2ae63d025b7f"
      },
      "outputs": [
        {
          "data": {
            "text/html": [
              "\n",
              "    <div>\n",
              "      \n",
              "      <progress value='532' max='532' style='width:300px; height:20px; vertical-align: middle;'></progress>\n",
              "      [532/532 00:28, Epoch 1/1]\n",
              "    </div>\n",
              "    <table border=\"1\" class=\"dataframe\">\n",
              "  <thead>\n",
              " <tr style=\"text-align: left;\">\n",
              "      <th>Epoch</th>\n",
              "      <th>Training Loss</th>\n",
              "      <th>Validation Loss</th>\n",
              "      <th>Roc Auc</th>\n",
              "    </tr>\n",
              "  </thead>\n",
              "  <tbody>\n",
              "    <tr>\n",
              "      <td>1</td>\n",
              "      <td>0.542400</td>\n",
              "      <td>0.714579</td>\n",
              "      <td>0.655379</td>\n",
              "    </tr>\n",
              "  </tbody>\n",
              "</table><p>"
            ],
            "text/plain": [
              "<IPython.core.display.HTML object>"
            ]
          },
          "metadata": {},
          "output_type": "display_data"
        },
        {
          "data": {
            "text/plain": [
              "TrainOutput(global_step=532, training_loss=0.5380397524152484, metrics={'train_runtime': 28.8905, 'train_samples_per_second': 294.214, 'train_steps_per_second': 18.414, 'total_flos': 0.0, 'train_loss': 0.5380397524152484, 'epoch': 1.0})"
            ]
          },
          "execution_count": 16,
          "metadata": {},
          "output_type": "execute_result"
        }
      ],
      "source": [
        "trainer.train()"
      ]
    },
    {
      "cell_type": "code",
      "execution_count": 17,
      "metadata": {},
      "outputs": [],
      "source": [
        "model.bert_base.save_pretrained(\"./bert12layer_hatefulmemes\")"
      ]
    },
    {
      "cell_type": "markdown",
      "metadata": {
        "id": "gPwa3yaA46N-"
      },
      "source": [
        "## IMG-ONLY"
      ]
    },
    {
      "cell_type": "code",
      "execution_count": 20,
      "metadata": {
        "id": "hMosT2EB6V5M"
      },
      "outputs": [],
      "source": [
        "from transformers import AutoImageProcessor, BeitModel\n",
        "import torch.nn as nn\n",
        "import torch\n",
        "from typing import List, Optional, Tuple, Union\n",
        "from torch.nn import BCEWithLogitsLoss, CrossEntropyLoss, MSELoss\n",
        "class img_only_model(nn.Module):\n",
        "    def __init__(self):\n",
        "        super(img_only_model, self).__init__()\n",
        "        # 选择basemodel并加载\n",
        "        #--------------local_model---------------\n",
        "        self.model = BeitModel.from_pretrained(\"/home/caixuqiang/beit\", output_hidden_states=True)\n",
        "        self.dropout = nn.Dropout(0.2)\n",
        "        self.classifier = nn.Linear(768, 2)\n",
        "\n",
        "    def forward(self, pixel_values: torch.Tensor,labels: Optional[torch.Tensor] = None, ) -> torch.Tensor:\n",
        "        outputs = self.model(pixel_values)\n",
        "        hidden_states = outputs.hidden_states\n",
        "        # 取第1层作为分类器的输入\n",
        "        logits = self.classifier(hidden_states[12][:, 0, :])\n",
        "\n",
        "        loss_fct = CrossEntropyLoss()\n",
        "        loss = loss_fct(logits.view(-1, 2), labels.view(-1))\n",
        "\n",
        "        output = (logits,)\n",
        "        return ((loss,) + output)\n"
      ]
    },
    {
      "cell_type": "code",
      "execution_count": 26,
      "metadata": {
        "colab": {
          "base_uri": "https://localhost:8080/"
        },
        "id": "UApdhCZuI2LC",
        "outputId": "f24763e5-9117-4df5-c9f2-5508a4c75aed"
      },
      "outputs": [],
      "source": [
        "m = img_only_model()"
      ]
    },
    {
      "cell_type": "code",
      "execution_count": 11,
      "metadata": {
        "id": "_2NLkVT-t9EZ"
      },
      "outputs": [],
      "source": [
        "# 冻结参数\n",
        "for param in m.model.parameters():\n",
        "   param.requires_grad = False"
      ]
    },
    {
      "cell_type": "code",
      "execution_count": 27,
      "metadata": {
        "colab": {
          "base_uri": "https://localhost:8080/",
          "height": 49
        },
        "id": "Q-7FJ2pPQNvz",
        "outputId": "ea9707d5-9c61-4fd7-8c8c-ed9982a31e76"
      },
      "outputs": [],
      "source": [
        "import numpy as np\n",
        "import evaluate\n",
        "metric = evaluate.load(\"./evaluate/metrics/roc_auc\")\n",
        "def compute_metrics(eval_pred):\n",
        "    logits, labels = eval_pred\n",
        "    # 对于二分类问题，使用 sigmoid 函数将 logits 转换为概率值\n",
        "    # 对于多分类问题，你可能需要使用 softmax 函数\n",
        "    probabilities = 1 / (1 + np.exp(-logits))[:, 1]\n",
        "\n",
        "    # 对于二分类问题，你可以直接使用 probabilities\n",
        "    # 如果是多标签分类，确保你的输出和标签是正确的形式\n",
        "    return metric.compute(prediction_scores=probabilities, references=labels)"
      ]
    },
    {
      "cell_type": "code",
      "execution_count": 28,
      "metadata": {
        "id": "2wGFd1iWibGM"
      },
      "outputs": [],
      "source": [
        "from transformers import TrainingArguments, Trainer\n",
        "\n",
        "training_args = TrainingArguments(\n",
        "    evaluation_strategy=\"epoch\",\n",
        "    learning_rate = 1e-5,\n",
        "    per_device_train_batch_size=16,\n",
        "    per_device_eval_batch_size=16,\n",
        "    num_train_epochs=5,\n",
        "    output_dir=\"wofeishenling/wofei\",\n",
        "    #no_cuda=True,\n",
        "    )"
      ]
    },
    {
      "cell_type": "code",
      "execution_count": 29,
      "metadata": {
        "id": "IPOtPZd4Qscc"
      },
      "outputs": [],
      "source": [
        "trainer = Trainer(\n",
        "    model=m,\n",
        "    #model = AutoModelForPreTraining.from_pretrained(\"facebook/wav2vec2-base-960h\",\n",
        "    #                        output_hidden_states = True,\n",
        "    #                        num_labels = 4),\n",
        "    args=training_args,\n",
        "    # data_collator = data_collator,\n",
        "    train_dataset=dataset['train'],\n",
        "    eval_dataset=dataset['test'],\n",
        "    compute_metrics=compute_metrics,\n",
        "    #callbacks=[EarlyStoppingCallback(early_stopping_patience=3), SaveBestModelCallback()]\n",
        ")"
      ]
    },
    {
      "cell_type": "code",
      "execution_count": 30,
      "metadata": {
        "colab": {
          "base_uri": "https://localhost:8080/",
          "height": 481
        },
        "id": "_9gAVkCEQvtn",
        "outputId": "627645af-dbed-4cc7-bdc8-239e9764e274"
      },
      "outputs": [
        {
          "data": {
            "text/html": [
              "\n",
              "    <div>\n",
              "      \n",
              "      <progress value='2660' max='2660' style='width:300px; height:20px; vertical-align: middle;'></progress>\n",
              "      [2660/2660 12:43, Epoch 5/5]\n",
              "    </div>\n",
              "    <table border=\"1\" class=\"dataframe\">\n",
              "  <thead>\n",
              " <tr style=\"text-align: left;\">\n",
              "      <th>Epoch</th>\n",
              "      <th>Training Loss</th>\n",
              "      <th>Validation Loss</th>\n",
              "      <th>Roc Auc</th>\n",
              "    </tr>\n",
              "  </thead>\n",
              "  <tbody>\n",
              "    <tr>\n",
              "      <td>1</td>\n",
              "      <td>3.681800</td>\n",
              "      <td>1.162108</td>\n",
              "      <td>0.501346</td>\n",
              "    </tr>\n",
              "    <tr>\n",
              "      <td>2</td>\n",
              "      <td>0.782500</td>\n",
              "      <td>0.717963</td>\n",
              "      <td>0.550292</td>\n",
              "    </tr>\n",
              "    <tr>\n",
              "      <td>3</td>\n",
              "      <td>0.725000</td>\n",
              "      <td>0.711881</td>\n",
              "      <td>0.555954</td>\n",
              "    </tr>\n",
              "    <tr>\n",
              "      <td>4</td>\n",
              "      <td>0.659700</td>\n",
              "      <td>0.703986</td>\n",
              "      <td>0.554573</td>\n",
              "    </tr>\n",
              "    <tr>\n",
              "      <td>5</td>\n",
              "      <td>0.608200</td>\n",
              "      <td>0.722456</td>\n",
              "      <td>0.541461</td>\n",
              "    </tr>\n",
              "  </tbody>\n",
              "</table><p>"
            ],
            "text/plain": [
              "<IPython.core.display.HTML object>"
            ]
          },
          "metadata": {},
          "output_type": "display_data"
        },
        {
          "data": {
            "text/plain": [
              "TrainOutput(global_step=2660, training_loss=1.249551535011234, metrics={'train_runtime': 764.0845, 'train_samples_per_second': 55.622, 'train_steps_per_second': 3.481, 'total_flos': 0.0, 'train_loss': 1.249551535011234, 'epoch': 5.0})"
            ]
          },
          "execution_count": 30,
          "metadata": {},
          "output_type": "execute_result"
        }
      ],
      "source": [
        "trainer.train()"
      ]
    },
    {
      "cell_type": "code",
      "execution_count": 32,
      "metadata": {
        "id": "FkpzCy8KgG9S"
      },
      "outputs": [],
      "source": [
        "m.model.save_pretrained('./beit12layers_hatefulmemes')"
      ]
    },
    {
      "cell_type": "markdown",
      "metadata": {
        "id": "4OSau8QymEjA"
      },
      "source": [
        "## FUSION MODEL"
      ]
    },
    {
      "cell_type": "code",
      "execution_count": 3,
      "metadata": {
        "id": "Sthl-WDVmEDr"
      },
      "outputs": [],
      "source": [
        "import torch\n",
        "from datasets import load_dataset\n",
        "from transformers import  Wav2Vec2FeatureExtractor\n",
        "from transformers import AutoTokenizer, AutoModelForSequenceClassification\n",
        "from transformers import HubertForSequenceClassification, Wav2Vec2FeatureExtractor, Wav2Vec2ForSequenceClassification"
      ]
    },
    {
      "cell_type": "code",
      "execution_count": 4,
      "metadata": {
        "id": "LUAb85mSf_NQ"
      },
      "outputs": [],
      "source": [
        "import torch\n",
        "import torch.nn as nn\n",
        "# 简单融合\n",
        "class Concatenation(nn.Module):\n",
        "    def __init__(self, feature_size=768):\n",
        "        super(Concatenation, self).__init__()\n",
        "        self.classifier = nn.Linear(768*2, 768)\n",
        "\n",
        "    def forward(self, audio_features, text_features):\n",
        "        cat_features = torch.cat((audio_features, text_features), dim=1)\n",
        "        cat_features = self.classifier(cat_features)\n",
        "\n",
        "        return cat_features"
      ]
    },
    {
      "cell_type": "code",
      "execution_count": 5,
      "metadata": {
        "id": "sRnWqltAgDGF"
      },
      "outputs": [],
      "source": [
        "import torch\n",
        "import torch.nn as nn\n",
        "d_model = 768\n",
        "nhead = 8\n",
        "dropout = 0.1\n",
        "layer_norm_eps = 1e-5\n",
        "dim_feedforward = 3072\n",
        "# 使用注意力机制融合模块\n",
        "class CoAttention(nn.Module):\n",
        "    def __init__(self, feature_size=768):\n",
        "        super(CoAttention, self).__init__()\n",
        "        self.self_attn = nn.MultiheadAttention(d_model, nhead)\n",
        "        self.norm1 = nn.LayerNorm(d_model, eps=layer_norm_eps)\n",
        "        self.norm2 = nn.LayerNorm(d_model, eps=layer_norm_eps)\n",
        "        self.dropout = nn.Dropout(dropout)\n",
        "        self.dropout1 = nn.Dropout(dropout)\n",
        "        self.dropout2 = nn.Dropout(dropout)\n",
        "        self.activation = nn.ReLU()\n",
        "        self.linear2 = nn.Linear(dim_feedforward, d_model)\n",
        "        self.linear1 = nn.Linear(d_model, dim_feedforward)\n",
        "\n",
        "    def forward(self, af, tf):\n",
        "        x = self.norm1(af + self._sa_block(af, tf, tf))\n",
        "        x = self.norm2(x + self._ff_block(x))\n",
        "\n",
        "        y = self.norm1(tf + self._sa_block(tf, af, af))\n",
        "        y = self.norm2(y + self._ff_block(y))\n",
        "\n",
        "        x1 = self.norm1(x + self._sa_block(x, y, y))\n",
        "        x1 = self.norm2(x1 + self._ff_block(x1))\n",
        "\n",
        "        y1 = self.norm1(y + self._sa_block(y, x, x))\n",
        "        y1 = self.norm2(y1 + self._ff_block(y1))\n",
        "\n",
        "        x2 = self.norm1(x1 + self._sa_block(x1, y1, y1))\n",
        "        x2 = self.norm2(x2 + self._ff_block(x2))\n",
        "\n",
        "        y2 = self.norm1(y1 + self._sa_block(y1, x1, x1))\n",
        "        y2 = self.norm2(y2 + self._ff_block(y2))\n",
        "\n",
        "        fused_features = (x+y)/2\n",
        "        return fused_features\n",
        "\n",
        "    def _sa_block(self, q, k, v):\n",
        "        x = self.self_attn(q, k, v, need_weights=False)[0]\n",
        "        return self.dropout1(x)\n",
        "\n",
        "    # feed forward block\n",
        "    def _ff_block(self, x):\n",
        "        x = self.linear2(self.dropout(self.activation(self.linear1(x))))\n",
        "        return self.dropout2(x)\n",
        "\n"
      ]
    },
    {
      "cell_type": "code",
      "execution_count": 22,
      "metadata": {
        "id": "1u-yn9W0SYAQ"
      },
      "outputs": [],
      "source": [
        "from transformers import AutoProcessor, AutoModelForAudioClassification, AutoModelForPreTraining, AutoModelForMaskedLM, AutoModelForSequenceClassification\n",
        "import torch.nn as nn\n",
        "from transformers import AutoModel\n",
        "from transformers import BertModel\n",
        "import math\n",
        "import os\n",
        "import warnings\n",
        "from dataclasses import dataclass\n",
        "from typing import List, Optional, Tuple, Union\n",
        "from transformers import AutoImageProcessor, BeitModel\n",
        "\n",
        "skew = -4\n",
        "import torch\n",
        "import torch.utils.checkpoint\n",
        "from torch.nn import BCEWithLogitsLoss, CrossEntropyLoss, MSELoss\n",
        "class FusionModel(nn.Module):\n",
        "    def __init__(self):\n",
        "        super(FusionModel, self).__init__()\n",
        "\n",
        "        # 分别选择文本basemodel以及语音的basemodel\n",
        "        self.text_model = BertModel.from_pretrained(\"./bert12layer_hatefulmemes\", output_hidden_states = True)\n",
        "        #self.audio_model = AutoModelForPreTraining.from_pretrained(\"facebook/wav2vec2-base\", output_hidden_states = True)\n",
        "        self.img_model = BeitModel.from_pretrained(\"./beit12layers_hatefulmemes\", output_hidden_states=True)\n",
        "        #self.audio_model = Wav2Vec2ForSequenceClassification.from_pretrained(\"facebook/wav2vec2-base\", output_hidden_states = True)\n",
        "        #self.text_model = AutoModelForSequenceClassification.from_pretrained(\"/home/caixuqiang/bert12layer_hatefulmemes\", output_hidden_states=True)\n",
        "\n",
        "        # 选择融合机制\n",
        "        self.fusion_model = CoAttention()\n",
        "        #self.fusion_model = Concatenation()\n",
        "        self.dropout = nn.Dropout(0.1)\n",
        "        self.linear1 = nn.Linear(768*2, 2)\n",
        "        self.linear = nn.Linear(768, 2) # output features from bert is 768 and 2 is ur number of labels\n",
        "\n",
        "    def forward(\n",
        "        self,\n",
        "        pixel_values: Optional[torch.Tensor] = None,\n",
        "        input_ids: Optional[torch.Tensor] = None,\n",
        "        attention_mask: Optional[torch.Tensor] = None,\n",
        "        token_type_ids: Optional[torch.Tensor] = None,\n",
        "        position_ids: Optional[torch.Tensor] = None,\n",
        "        labels: Optional[torch.Tensor] = None,\n",
        "        return_dict: Optional[bool] = None,\n",
        "    ) -> Tuple[torch.Tensor]:\n",
        "        outputs_audio = self.img_model(pixel_values)\n",
        "        outputs_text  = self.text_model(input_ids, attention_mask=attention_mask, token_type_ids=token_type_ids)\n",
        "\n",
        "        ## 指定融合的匹配策略\n",
        "        #layer_fusion1 = self.fusion_model(outputs_audio.hidden_states[1][:,0,:],outputs_text.hidden_states[1][:,0,:])\n",
        "        #layer_fusion2 = self.fusion_model(outputs_audio.hidden_states[1][:,0,:],outputs_text.hidden_states[5][:,0,:])\n",
        "        #layer_fusion3 = self.fusion_model(outputs_audio.hidden_states[2][:,0,:],outputs_text.hidden_states[6][:,0,:])\n",
        "        #layer_fusion4 = self.fusion_model(outputs_audio.hidden_states[3][:,0,:],outputs_text.hidden_states[7][:,0,:])\n",
        "        layer_fusion5 = self.fusion_model(outputs_audio.hidden_states[12][:,0,:],outputs_text.hidden_states[6][:,0,:])\n",
        "        #layer_fusion6 = self.fusion_model(outputs_audio.hidden_states[9][:,0,:],outputs_text.hidden_states[10][:,0,:])\n",
        "        #layer_fusion7 = self.fusion_model(outputs_audio.hidden_states[8][:,0,:],outputs_text.hidden_states[9][:,0,:])\n",
        "        #layer_fusion8 = self.fusion_model(outputs_audio.hidden_states[11][:,0,:],outputs_text.hidden_states[6][:,0,:])\n",
        "        #layer_fusion9 = self.fusion_model(outputs_audio.hidden_states[12][:,0,:],outputs_text.hidden_states[7][:,0,:])\n",
        "        #layer_fusion10 = self.fusion_model(outputs_audio.hidden_states[1][:,0,:],outputs_text.hidden_states[10][:,0,:])\n",
        "        #layer_fusion11 = self.fusion_model(outputs_audio.hidden_states[7][:,0,:],outputs_text.hidden_states[11][:,0,:])\n",
        "        #layer_fusion12 = self.fusion_model(outputs_audio.hidden_states[8][:,0,:],outputs_text.hidden_states[12][:,0,:])\n",
        "\n",
        "        #outputs_fusion = self.w1*layer_fusion1 + self.w2*layer_fusion2 + self.w3*layer_fusion3 + self.w4*layer_fusion4 + self.w5*layer_fusion5 + self.w6*layer_fusion6 + self.w7*layer_fusion7 + self.w8*layer_fusion8 + self.w9*layer_fusion9 + self.w10*layer_fusion10 + self.w11*layer_fusion11 + self.w12*layer_fusion12\n",
        "        #outputs_fusion = (layer_fusion5 + layer_fusion6 + layer_fusion7)/3.0\n",
        "        # + layer_fusion10 + layer_fusion11 + layer_fusion12\n",
        "        #outputs_fusion = 0.0002443*layer_fusion1 + 0.0004886*layer_fusion2 + 0.0009772*layer_fusion3 + 0.0019544*layer_fusion4 + 0.0039088*layer_fusion5 + 0.0078176*layer_fusion6 + 0.0156352*layer_fusion7 + 0.0312704*layer_fusion8 + 0.0625408*layer_fusion9 + 0.1250816*layer_fusion10 + 0.2501632*layer_fusion11 + 0.5003264*layer_fusion12\n",
        "\n",
        "\n",
        "        # 将融合好的特征进行分类\n",
        "        logits = self.linear(layer_fusion5)\n",
        "        loss_fct = CrossEntropyLoss()\n",
        "        loss = loss_fct(logits.view(-1, 2), labels.view(-1))\n",
        "\n",
        "        output = (logits,)\n",
        "        res = ((loss,) + output)\n",
        "        return res\n",
        "        "
      ]
    },
    {
      "cell_type": "code",
      "execution_count": 23,
      "metadata": {
        "colab": {
          "base_uri": "https://localhost:8080/"
        },
        "id": "8uGCihlG4gHi",
        "outputId": "b07cfe23-f9aa-47a1-c17e-2222f7e6fa30"
      },
      "outputs": [],
      "source": [
        "model = FusionModel()"
      ]
    },
    {
      "cell_type": "code",
      "execution_count": 24,
      "metadata": {
        "id": "gRKYaTgIr1fc"
      },
      "outputs": [],
      "source": [
        "for param in model.img_model.parameters():\n",
        "    param.requires_grad = False\n",
        "\n",
        "for param in model.text_model.parameters():\n",
        "    param.requires_grad = False"
      ]
    },
    {
      "cell_type": "code",
      "execution_count": 25,
      "metadata": {
        "id": "5g0gb-Cup01G"
      },
      "outputs": [],
      "source": [
        "from transformers import TrainingArguments, Trainer, TrainerCallback\n",
        "\n",
        "training_args = TrainingArguments(\n",
        "    output_dir=\"test_trainer\", evaluation_strategy=\"epoch\",\n",
        "    learning_rate = 5e-5,\n",
        "    per_device_train_batch_size=16,\n",
        "    per_device_eval_batch_size=16,\n",
        "    num_train_epochs=10,\n",
        "    save_strategy = 'steps',\n",
        "    #no_cuda = True,\n",
        "    )"
      ]
    },
    {
      "cell_type": "code",
      "execution_count": 26,
      "metadata": {
        "colab": {
          "base_uri": "https://localhost:8080/",
          "height": 49,
          "referenced_widgets": [
            "db2e17052e83418b888d5465c8dc3fb3",
            "98830a812ee44a1495a8bd92719c601f",
            "1ec37b3de24949dc8961727eb83acf99",
            "34cd33a86c1641f19de6bc30e0b9ad9b",
            "63ab3feba1da466fb797ff0fdd59f4a0",
            "2757034e5bff4e0484bd5c7b4225fbeb",
            "72868efb80cd490cb1bee97b677a4d36",
            "2df09b164663458c9681be326eafbeb0",
            "30eeaed2dddb4c0582c1414b138399ff",
            "e507c94c98af45b89bee19c9b5675069",
            "3604981c3ad64744aeb257b166dac2a5"
          ]
        },
        "id": "eAm2U9M_p5l2",
        "outputId": "15e4adc6-1454-4b05-abd8-538a054345fb"
      },
      "outputs": [],
      "source": [
        "import numpy as np\n",
        "import evaluate\n",
        "metric = evaluate.load(\"./evaluate/metrics/roc_auc\")\n",
        "def compute_metrics(eval_pred):\n",
        "    logits, labels = eval_pred\n",
        "    # 对于二分类问题，使用 sigmoid 函数将 logits 转换为概率值\n",
        "    # 对于多分类问题，你可能需要使用 softmax 函数\n",
        "    probabilities = 1 / (1 + np.exp(-logits))[:, 1]\n",
        "\n",
        "    # 对于二分类问题，你可以直接使用 probabilities\n",
        "    # 如果是多标签分类，确保你的输出和标签是正确的形式\n",
        "    return metric.compute(prediction_scores=probabilities, references=labels)"
      ]
    },
    {
      "cell_type": "code",
      "execution_count": 27,
      "metadata": {
        "id": "_opiZpoU7kNu"
      },
      "outputs": [],
      "source": [
        "from transformers import Trainer, TrainingArguments\n",
        "import torch\n",
        "\n",
        "class CustomTrainer(Trainer):\n",
        "    def create_optimizer(self):\n",
        "        optimizer_grouped_parameters = [\n",
        "            {\n",
        "              \"params\": self.model.linear.parameters(),\n",
        "              \"lr\": 1e-3,\n",
        "              \"weight_decay\": self.args.weight_decay\n",
        "            },\n",
        "            {\n",
        "              \"params\": self.model.fusion_model.parameters(),\n",
        "              \"lr\": self.args.learning_rate,\n",
        "              \"weight_decay\": self.args.weight_decay\n",
        "            },\n",
        "        ]\n",
        "        self.optimizer = torch.optim.AdamW(optimizer_grouped_parameters, lr=self.args.learning_rate)\n",
        "        return self.optimizer"
      ]
    },
    {
      "cell_type": "code",
      "execution_count": 28,
      "metadata": {
        "id": "2aa4V7kdp_qC"
      },
      "outputs": [],
      "source": [
        "trainer = CustomTrainer(\n",
        "    model=model,\n",
        "    args=training_args,\n",
        "    # data_collator=data_collator,\n",
        "    train_dataset=dataset['train'],\n",
        "    eval_dataset=dataset['test'],\n",
        "    #tokenizer = feature_extractor,\n",
        "    compute_metrics=compute_metrics,\n",
        "    #callbacks=[MyCallback],\n",
        ")"
      ]
    },
    {
      "cell_type": "code",
      "execution_count": null,
      "metadata": {
        "colab": {
          "base_uri": "https://localhost:8080/",
          "height": 487
        },
        "id": "5-6ItmY3qBUm",
        "outputId": "e894c54d-bb83-4a10-905c-2cb4ed07e3ed"
      },
      "outputs": [],
      "source": [
        "trainer.train()"
      ]
    },
    {
      "cell_type": "code",
      "execution_count": null,
      "metadata": {
        "id": "8JbUYjeRU1a2"
      },
      "outputs": [],
      "source": [
        "torch.cuda.empty_cache()"
      ]
    },
    {
      "cell_type": "markdown",
      "metadata": {
        "id": "K6DNvctFnmKt"
      },
      "source": [
        "# tsne"
      ]
    },
    {
      "cell_type": "code",
      "execution_count": 200,
      "metadata": {},
      "outputs": [],
      "source": [
        "skew = 2"
      ]
    },
    {
      "cell_type": "code",
      "execution_count": 201,
      "metadata": {
        "id": "65MH_iJzlCl1"
      },
      "outputs": [],
      "source": [
        "from transformers import AutoProcessor, AutoModelForAudioClassification, AutoModelForPreTraining, AutoModelForMaskedLM, AutoModelForSequenceClassification\n",
        "import torch.nn as nn\n",
        "from transformers import AutoModel\n",
        "from transformers import BertModel\n",
        "import math\n",
        "import os\n",
        "import warnings\n",
        "from dataclasses import dataclass\n",
        "from typing import List, Optional, Tuple, Union\n",
        "\n",
        "import torch\n",
        "import torch.utils.checkpoint\n",
        "from torch.nn import BCEWithLogitsLoss, CrossEntropyLoss, MSELoss\n",
        "class eval_FusionModel(nn.Module):\n",
        "    def __init__(self):\n",
        "        super(eval_FusionModel, self).__init__()\n",
        "\n",
        "        # 分别选择文本basemodel以及语音的basemodel\n",
        "        self.text_model = model.text_model\n",
        "        self.audio_model = model.audio_model\n",
        "        #self.audio_model = Wav2Vec2ForSequenceClassification.from_pretrained(\"/content/drive/MyDrive/myModel/wav2vec2_superb_12layers\", output_hidden_states = True)\n",
        "        #self.audio_model = Wav2Vec2ForSequenceClassification.from_pretrained(\"facebook/wav2vec2-base\", output_hidden_states = True)\n",
        "        #self.text_model = AutoModelForSequenceClassification.from_pretrained(\"/content/drive/MyDrive/myModel/bert_12layers\", output_hidden_states=True)\n",
        "\n",
        "        # 选择融合机制\n",
        "        self.fusion_model = model.fusion_model\n",
        "        state_dict = torch.load('/home/caixuqiang/skew2/fusion_3.0_epoch')\n",
        "        self.fusion_model.load_state_dict(state_dict)\n",
        "        #self.fusion_model = Concatenation()\n",
        "        self.dropout = nn.Dropout(0.1)\n",
        "        self.linear1 = nn.Linear(768*2, 4)\n",
        "        self.linear = nn.Linear(768, 4) # output features from bert is 768 and 2 is ur number of labels\n",
        "\n",
        "    def forward(\n",
        "        self,\n",
        "        input_values: Optional[torch.Tensor] = None,\n",
        "        attention_mask_audio: Optional[torch.Tensor] = None,\n",
        "        input_ids: Optional[torch.Tensor] = None,\n",
        "        attention_mask: Optional[torch.Tensor] = None,\n",
        "        token_type_ids: Optional[torch.Tensor] = None,\n",
        "        position_ids: Optional[torch.Tensor] = None,\n",
        "        labels: Optional[torch.Tensor] = None,\n",
        "        return_dict: Optional[bool] = None,\n",
        "    ) -> Tuple[torch.Tensor]:\n",
        "        outputs_audio = self.audio_model(input_values, attention_mask=attention_mask_audio)\n",
        "        outputs_text  = self.text_model(input_ids, attention_mask=attention_mask, token_type_ids=token_type_ids)\n",
        "\n",
        "        ## 指定融合的匹配策略\n",
        "        #layer_fusion1 = self.fusion_model(outputs_audio.hidden_states[1][:,0,:],outputs_text.hidden_states[1][:,0,:])\n",
        "        #layer_fusion2 = self.fusion_model(outputs_audio.hidden_states[1][:,0,:],outputs_text.hidden_states[5][:,0,:])\n",
        "        #layer_fusion3 = self.fusion_model(outputs_audio.hidden_states[2][:,0,:],outputs_text.hidden_states[6][:,0,:])\n",
        "        #layer_fusion4 = self.fusion_model(outputs_audio.hidden_states[3][:,0,:],outputs_text.hidden_states[7][:,0,:])\n",
        "        layer_fusion5 = self.fusion_model(outputs_audio.hidden_states[8-skew][:,0,:],outputs_text.hidden_states[8][:,0,:])\n",
        "        layer_fusion6 = self.fusion_model(outputs_audio.hidden_states[9-skew][:,0,:],outputs_text.hidden_states[9][:,0,:])\n",
        "        layer_fusion7 = self.fusion_model(outputs_audio.hidden_states[10-skew][:,0,:],outputs_text.hidden_states[10][:,0,:])\n",
        "        layer_fusion8 = self.fusion_model(outputs_audio.hidden_states[11-skew][:,0,:],outputs_text.hidden_states[11][:,0,:])\n",
        "        layer_fusion9 = self.fusion_model(outputs_audio.hidden_states[12-skew][:,0,:],outputs_text.hidden_states[12][:,0,:])\n",
        "        #layer_fusion10 = self.fusion_model(outputs_audio.hidden_states[1][:,0,:],outputs_text.hidden_states[10][:,0,:])\n",
        "        #layer_fusion11 = self.fusion_model(outputs_audio.hidden_states[7][:,0,:],outputs_text.hidden_states[11][:,0,:])\n",
        "        #layer_fusion12 = self.fusion_model(outputs_audio.hidden_states[8][:,0,:],outputs_text.hidden_states[12][:,0,:])\n",
        "\n",
        "        #outputs_fusion = self.w1*layer_fusion1 + self.w2*layer_fusion2 + self.w3*layer_fusion3 + self.w4*layer_fusion4 + self.w5*layer_fusion5 + self.w6*layer_fusion6 + self.w7*layer_fusion7 + self.w8*layer_fusion8 + self.w9*layer_fusion9 + self.w10*layer_fusion10 + self.w11*layer_fusion11 + self.w12*layer_fusion12\n",
        "        outputs_fusion = (layer_fusion5 + layer_fusion6 + layer_fusion7 + layer_fusion8 + layer_fusion9)/5.0\n",
        "        # + layer_fusion10 + layer_fusion11 + layer_fusion12\n",
        "        #outputs_fusion = 0.0002443*layer_fusion1 + 0.0004886*layer_fusion2 + 0.0009772*layer_fusion3 + 0.0019544*layer_fusion4 + 0.0039088*layer_fusion5 + 0.0078176*layer_fusion6 + 0.0156352*layer_fusion7 + 0.0312704*layer_fusion8 + 0.0625408*layer_fusion9 + 0.1250816*layer_fusion10 + 0.2501632*layer_fusion11 + 0.5003264*layer_fusion12\n",
        "\n",
        "\n",
        "        # 将融合好的特征进行分类\n",
        "\n",
        "        return (layer_fusion9)"
      ]
    },
    {
      "cell_type": "code",
      "execution_count": 202,
      "metadata": {
        "colab": {
          "base_uri": "https://localhost:8080/"
        },
        "id": "SApOr_Z7lZHc",
        "outputId": "18ea4079-c6ae-48f7-d2b4-16df062884c3"
      },
      "outputs": [],
      "source": [
        "eval_model = eval_FusionModel()"
      ]
    },
    {
      "cell_type": "code",
      "execution_count": 203,
      "metadata": {
        "colab": {
          "background_save": true,
          "base_uri": "https://localhost:8080/"
        },
        "id": "YsLv6KQenp1D",
        "outputId": "2447aa66-5486-4e36-8067-00fa13746279"
      },
      "outputs": [
        {
          "name": "stderr",
          "output_type": "stream",
          "text": [
            "  0%|          | 0/1241 [00:00<?, ?it/s]"
          ]
        },
        {
          "name": "stderr",
          "output_type": "stream",
          "text": [
            "100%|██████████| 1241/1241 [00:39<00:00, 31.72it/s]\n"
          ]
        }
      ],
      "source": [
        "from transformers import AutoProcessor, AutoModelForAudioClassification, AutoModelForPreTraining, AutoModelForMaskedLM, AutoModelForSequenceClassification, Wav2Vec2ForSequenceClassification\n",
        "import torch.nn as nn\n",
        "from transformers import AutoTokenizer\n",
        "import torch\n",
        "from transformers import AutoModel\n",
        "from transformers import BertModel\n",
        "import math\n",
        "import os\n",
        "import warnings\n",
        "from dataclasses import dataclass\n",
        "from typing import List, Optional, Tuple, Union\n",
        "import torch.nn.init as init\n",
        "import torch.utils.checkpoint\n",
        "from torch.nn import BCEWithLogitsLoss, CrossEntropyLoss, MSELoss\n",
        "from tqdm import tqdm\n",
        "import torch\n",
        "from sklearn.manifold import TSNE\n",
        "import matplotlib.pyplot as plt\n",
        "import torch\n",
        "from sklearn.manifold import TSNE\n",
        "import matplotlib.pyplot as plt\n",
        "from transformers import BertTokenizer, BertModel\n",
        "\n",
        "# 初始化Bert模型和tokenizer\n",
        "#model = BertModel.from_pretrained('bert-base-uncased', output_hidden_states=True)\n",
        "#eval_model = AutoModelForSequenceClassification.from_pretrained(\"/content/drive/MyDrive/myModel/skew4/bert_1.0_epoch\", output_hidden_states=True)\n",
        "#model = AutoModelForPreTraining.from_pretrained(\"facebook/wav2vec2-base\", output_hidden_states = True)\n",
        "#model = Wav2Vec2ForSequenceClassification.from_pretrained(\"/content/drive/MyDrive/myModel/wav2vec2_1.0_epoch\", output_hidden_states = True)\n",
        "#model = model.text_model\n",
        "# 提取标签和特征向量的列表\n",
        "labels_list = []\n",
        "hidden_states_list = []\n",
        "device = torch.device(\"cuda\" if torch.cuda.is_available() else \"cpu\")\n",
        "eval_model.to(device)\n",
        "# 遍历数据集\n",
        "for example in tqdm(tokenized_test_dataset):\n",
        "    # 处理输入数据\n",
        "    input_ids = example['input_ids']\n",
        "    attention_mask = example['attention_mask']\n",
        "    input_values = example['input_values']\n",
        "    attention_mask_audio = example['attention_mask_audio']\n",
        "\n",
        "    input_ids = input_ids.to(device)\n",
        "    attention_mask = attention_mask.to(device)\n",
        "    input_values = input_values.to(device)\n",
        "    attention_mask_audio = attention_mask_audio.to(device)\n",
        "    # 将输入数据传递给BERT模型\n",
        "    #outputs = model(input_ids=input_ids.unsqueeze(0), attention_mask=attention_mask.unsqueeze(0))\n",
        "    #outputs = model(input_values.unsqueeze(0), attention_mask=attention_mask_audio.unsqueeze(0))\n",
        "    outputs = eval_model(input_ids=input_ids.unsqueeze(0), attention_mask=attention_mask.unsqueeze(0),input_values = input_values.unsqueeze(0), attention_mask_audio=attention_mask_audio.unsqueeze(0))\n",
        "\n",
        "    # 提取特定层的隐藏状态\n",
        "    selected_layer = outputs.detach().cpu().numpy()\n",
        "    #selected_layer = outputs.detach().cpu().numpy()\n",
        "    #selected_layer = outputs\n",
        "    # 将标签和特征向量添加到列表中\n",
        "    labels_list.append(example['labels'])\n",
        "    hidden_states_list.append(selected_layer)\n",
        "    del outputs, selected_layer\n",
        "\n",
        "# 将标签列表和特征向量列表转换为张量\n",
        "labels_tensor = torch.tensor(labels_list)\n",
        "hidden_states_tensor = torch.tensor(hidden_states_list)\n",
        "hidden_states_tensor = hidden_states_tensor.squeeze(1)"
      ]
    },
    {
      "cell_type": "code",
      "execution_count": 204,
      "metadata": {
        "id": "QOoxlOvsNf-e"
      },
      "outputs": [
        {
          "data": {
            "image/png": "[encoded data removed]",
            "text/plain": [
              "<Figure size 700x600 with 1 Axes>"
            ]
          },
          "metadata": {},
          "output_type": "display_data"
        }
      ],
      "source": [
        "tsne = TSNE(n_components=2, perplexity=150.0, random_state=42)\n",
        "tsne_vectors = tsne.fit_transform(hidden_states_tensor)\n",
        "\n",
        "# 绘制t-SNE可视化结果，并根据标签进行着色\n",
        "plt.figure(figsize=(7, 6))\n",
        "scatter = plt.scatter(tsne_vectors[:, 0], tsne_vectors[:, 1], c=labels_tensor, cmap='rainbow', s=8)\n",
        "plt.title(\"t-SNE Visualization with Labels (skew {})\".format(skew))\n",
        "plt.colorbar(scatter).remove()   # 显示图例\n",
        "plt.savefig(f'single_layer_2_3.png')\n",
        "plt.show()"
      ]
    }
  ],
  "metadata": {
    "accelerator": "GPU",
    "colab": {
      "collapsed_sections": [
        "jDv7huNYlT2r",
        "fG_WWRJ1l4v3",
        "OqaAkTdtmy65",
        "qcDxXCH9xGTN",
        "gPwa3yaA46N-",
        "JJKXq3HnnLGV",
        "8HUkUtvolxOA"
      ],
      "machine_shape": "hm",
      "provenance": []
    },
    "kernelspec": {
      "display_name": "Python 3",
      "name": "python3"
    },
    "language_info": {
      "codemirror_mode": {
        "name": "ipython",
        "version": 3
      },
      "file_extension": ".py",
      "mimetype": "text/x-python",
      "name": "python",
      "nbconvert_exporter": "python",
      "pygments_lexer": "ipython3",
      "version": "3.11.5"
    },
    "widgets": {
      "application/vnd.jupyter.widget-state+json": {
        "1ec37b3de24949dc8961727eb83acf99": {
          "model_module": "@jupyter-widgets/controls",
          "model_module_version": "1.5.0",
          "model_name": "FloatProgressModel",
          "state": {
            "_dom_classes": [],
            "_model_module": "@jupyter-widgets/controls",
            "_model_module_version": "1.5.0",
            "_model_name": "FloatProgressModel",
            "_view_count": null,
            "_view_module": "@jupyter-widgets/controls",
            "_view_module_version": "1.5.0",
            "_view_name": "ProgressView",
            "bar_style": "success",
            "description": "",
            "description_tooltip": null,
            "layout": "IPY_MODEL_2df09b164663458c9681be326eafbeb0",
            "max": 4203,
            "min": 0,
            "orientation": "horizontal",
            "style": "IPY_MODEL_30eeaed2dddb4c0582c1414b138399ff",
            "value": 4203
          }
        },
        "2757034e5bff4e0484bd5c7b4225fbeb": {
          "model_module": "@jupyter-widgets/base",
          "model_module_version": "1.2.0",
          "model_name": "LayoutModel",
          "state": {
            "_model_module": "@jupyter-widgets/base",
            "_model_module_version": "1.2.0",
            "_model_name": "LayoutModel",
            "_view_count": null,
            "_view_module": "@jupyter-widgets/base",
            "_view_module_version": "1.2.0",
            "_view_name": "LayoutView",
            "align_content": null,
            "align_items": null,
            "align_self": null,
            "border": null,
            "bottom": null,
            "display": null,
            "flex": null,
            "flex_flow": null,
            "grid_area": null,
            "grid_auto_columns": null,
            "grid_auto_flow": null,
            "grid_auto_rows": null,
            "grid_column": null,
            "grid_gap": null,
            "grid_row": null,
            "grid_template_areas": null,
            "grid_template_columns": null,
            "grid_template_rows": null,
            "height": null,
            "justify_content": null,
            "justify_items": null,
            "left": null,
            "margin": null,
            "max_height": null,
            "max_width": null,
            "min_height": null,
            "min_width": null,
            "object_fit": null,
            "object_position": null,
            "order": null,
            "overflow": null,
            "overflow_x": null,
            "overflow_y": null,
            "padding": null,
            "right": null,
            "top": null,
            "visibility": null,
            "width": null
          }
        },
        "2df09b164663458c9681be326eafbeb0": {
          "model_module": "@jupyter-widgets/base",
          "model_module_version": "1.2.0",
          "model_name": "LayoutModel",
          "state": {
            "_model_module": "@jupyter-widgets/base",
            "_model_module_version": "1.2.0",
            "_model_name": "LayoutModel",
            "_view_count": null,
            "_view_module": "@jupyter-widgets/base",
            "_view_module_version": "1.2.0",
            "_view_name": "LayoutView",
            "align_content": null,
            "align_items": null,
            "align_self": null,
            "border": null,
            "bottom": null,
            "display": null,
            "flex": null,
            "flex_flow": null,
            "grid_area": null,
            "grid_auto_columns": null,
            "grid_auto_flow": null,
            "grid_auto_rows": null,
            "grid_column": null,
            "grid_gap": null,
            "grid_row": null,
            "grid_template_areas": null,
            "grid_template_columns": null,
            "grid_template_rows": null,
            "height": null,
            "justify_content": null,
            "justify_items": null,
            "left": null,
            "margin": null,
            "max_height": null,
            "max_width": null,
            "min_height": null,
            "min_width": null,
            "object_fit": null,
            "object_position": null,
            "order": null,
            "overflow": null,
            "overflow_x": null,
            "overflow_y": null,
            "padding": null,
            "right": null,
            "top": null,
            "visibility": null,
            "width": null
          }
        },
        "30eeaed2dddb4c0582c1414b138399ff": {
          "model_module": "@jupyter-widgets/controls",
          "model_module_version": "1.5.0",
          "model_name": "ProgressStyleModel",
          "state": {
            "_model_module": "@jupyter-widgets/controls",
            "_model_module_version": "1.5.0",
            "_model_name": "ProgressStyleModel",
            "_view_count": null,
            "_view_module": "@jupyter-widgets/base",
            "_view_module_version": "1.2.0",
            "_view_name": "StyleView",
            "bar_color": null,
            "description_width": ""
          }
        },
        "34cd33a86c1641f19de6bc30e0b9ad9b": {
          "model_module": "@jupyter-widgets/controls",
          "model_module_version": "1.5.0",
          "model_name": "HTMLModel",
          "state": {
            "_dom_classes": [],
            "_model_module": "@jupyter-widgets/controls",
            "_model_module_version": "1.5.0",
            "_model_name": "HTMLModel",
            "_view_count": null,
            "_view_module": "@jupyter-widgets/controls",
            "_view_module_version": "1.5.0",
            "_view_name": "HTMLView",
            "description": "",
            "description_tooltip": null,
            "layout": "IPY_MODEL_e507c94c98af45b89bee19c9b5675069",
            "placeholder": "​",
            "style": "IPY_MODEL_3604981c3ad64744aeb257b166dac2a5",
            "value": " 4.20k/4.20k [00:00&lt;00:00, 207kB/s]"
          }
        },
        "3604981c3ad64744aeb257b166dac2a5": {
          "model_module": "@jupyter-widgets/controls",
          "model_module_version": "1.5.0",
          "model_name": "DescriptionStyleModel",
          "state": {
            "_model_module": "@jupyter-widgets/controls",
            "_model_module_version": "1.5.0",
            "_model_name": "DescriptionStyleModel",
            "_view_count": null,
            "_view_module": "@jupyter-widgets/base",
            "_view_module_version": "1.2.0",
            "_view_name": "StyleView",
            "description_width": ""
          }
        },
        "63ab3feba1da466fb797ff0fdd59f4a0": {
          "model_module": "@jupyter-widgets/base",
          "model_module_version": "1.2.0",
          "model_name": "LayoutModel",
          "state": {
            "_model_module": "@jupyter-widgets/base",
            "_model_module_version": "1.2.0",
            "_model_name": "LayoutModel",
            "_view_count": null,
            "_view_module": "@jupyter-widgets/base",
            "_view_module_version": "1.2.0",
            "_view_name": "LayoutView",
            "align_content": null,
            "align_items": null,
            "align_self": null,
            "border": null,
            "bottom": null,
            "display": null,
            "flex": null,
            "flex_flow": null,
            "grid_area": null,
            "grid_auto_columns": null,
            "grid_auto_flow": null,
            "grid_auto_rows": null,
            "grid_column": null,
            "grid_gap": null,
            "grid_row": null,
            "grid_template_areas": null,
            "grid_template_columns": null,
            "grid_template_rows": null,
            "height": null,
            "justify_content": null,
            "justify_items": null,
            "left": null,
            "margin": null,
            "max_height": null,
            "max_width": null,
            "min_height": null,
            "min_width": null,
            "object_fit": null,
            "object_position": null,
            "order": null,
            "overflow": null,
            "overflow_x": null,
            "overflow_y": null,
            "padding": null,
            "right": null,
            "top": null,
            "visibility": null,
            "width": null
          }
        },
        "72868efb80cd490cb1bee97b677a4d36": {
          "model_module": "@jupyter-widgets/controls",
          "model_module_version": "1.5.0",
          "model_name": "DescriptionStyleModel",
          "state": {
            "_model_module": "@jupyter-widgets/controls",
            "_model_module_version": "1.5.0",
            "_model_name": "DescriptionStyleModel",
            "_view_count": null,
            "_view_module": "@jupyter-widgets/base",
            "_view_module_version": "1.2.0",
            "_view_name": "StyleView",
            "description_width": ""
          }
        },
        "98830a812ee44a1495a8bd92719c601f": {
          "model_module": "@jupyter-widgets/controls",
          "model_module_version": "1.5.0",
          "model_name": "HTMLModel",
          "state": {
            "_dom_classes": [],
            "_model_module": "@jupyter-widgets/controls",
            "_model_module_version": "1.5.0",
            "_model_name": "HTMLModel",
            "_view_count": null,
            "_view_module": "@jupyter-widgets/controls",
            "_view_module_version": "1.5.0",
            "_view_name": "HTMLView",
            "description": "",
            "description_tooltip": null,
            "layout": "IPY_MODEL_2757034e5bff4e0484bd5c7b4225fbeb",
            "placeholder": "​",
            "style": "IPY_MODEL_72868efb80cd490cb1bee97b677a4d36",
            "value": "Downloading builder script: 100%"
          }
        },
        "db2e17052e83418b888d5465c8dc3fb3": {
          "model_module": "@jupyter-widgets/controls",
          "model_module_version": "1.5.0",
          "model_name": "HBoxModel",
          "state": {
            "_dom_classes": [],
            "_model_module": "@jupyter-widgets/controls",
            "_model_module_version": "1.5.0",
            "_model_name": "HBoxModel",
            "_view_count": null,
            "_view_module": "@jupyter-widgets/controls",
            "_view_module_version": "1.5.0",
            "_view_name": "HBoxView",
            "box_style": "",
            "children": [
              "IPY_MODEL_98830a812ee44a1495a8bd92719c601f",
              "IPY_MODEL_1ec37b3de24949dc8961727eb83acf99",
              "IPY_MODEL_34cd33a86c1641f19de6bc30e0b9ad9b"
            ],
            "layout": "IPY_MODEL_63ab3feba1da466fb797ff0fdd59f4a0"
          }
        },
        "e507c94c98af45b89bee19c9b5675069": {
          "model_module": "@jupyter-widgets/base",
          "model_module_version": "1.2.0",
          "model_name": "LayoutModel",
          "state": {
            "_model_module": "@jupyter-widgets/base",
            "_model_module_version": "1.2.0",
            "_model_name": "LayoutModel",
            "_view_count": null,
            "_view_module": "@jupyter-widgets/base",
            "_view_module_version": "1.2.0",
            "_view_name": "LayoutView",
            "align_content": null,
            "align_items": null,
            "align_self": null,
            "border": null,
            "bottom": null,
            "display": null,
            "flex": null,
            "flex_flow": null,
            "grid_area": null,
            "grid_auto_columns": null,
            "grid_auto_flow": null,
            "grid_auto_rows": null,
            "grid_column": null,
            "grid_gap": null,
            "grid_row": null,
            "grid_template_areas": null,
            "grid_template_columns": null,
            "grid_template_rows": null,
            "height": null,
            "justify_content": null,
            "justify_items": null,
            "left": null,
            "margin": null,
            "max_height": null,
            "max_width": null,
            "min_height": null,
            "min_width": null,
            "object_fit": null,
            "object_position": null,
            "order": null,
            "overflow": null,
            "overflow_x": null,
            "overflow_y": null,
            "padding": null,
            "right": null,
            "top": null,
            "visibility": null,
            "width": null
          }
        }
      }
    }
  },
  "nbformat": 4,
  "nbformat_minor": 0
}
